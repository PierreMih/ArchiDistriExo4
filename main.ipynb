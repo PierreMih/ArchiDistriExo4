{
 "cells": [
  {
   "cell_type": "code",
   "id": "initial_id",
   "metadata": {
    "collapsed": true,
    "ExecuteTime": {
     "end_time": "2024-08-22T14:25:15.834405Z",
     "start_time": "2024-08-22T14:25:11.927600Z"
    }
   },
   "source": [
    "from pyspark.sql import SparkSession\n",
    "\n",
    "# jupyter server url : http://localhost:8888/?token=e8969cc301798aa1a1277901708e8b900d075d249df84c1a\n",
    "\n",
    "spark = SparkSession.builder \\\n",
    "    .master(\"local[*]\") \\\n",
    "    .appName(\"Exo4\") \\\n",
    "    .config(\"spark.ui.port\",\"4040\")\\\n",
    "    .config(\"spark.executor.memory\",\"10g\")\\\n",
    "    .config(\"spark.driver.memory\",\"4g\")\\\n",
    "    .config(\"spark.jars\", \"/opt/spark/jars/mysql-connector-j-9.0.0.jar\")\\\n",
    "    .getOrCreate()\n",
    "    #.config(\"driver\", \"com.mysql.jdbc.Driver\") \\\n",
    "    #.config(\"driver\", \"mysql-connector-j-9.0.0.jar\")\\"
   ],
   "outputs": [],
   "execution_count": 2
  },
  {
   "metadata": {
    "ExecuteTime": {
     "end_time": "2024-08-22T14:25:15.845170Z",
     "start_time": "2024-08-22T14:25:15.841158Z"
    }
   },
   "cell_type": "code",
   "source": [
    "properties = {\"user\":\"root\",\n",
    "              \"driver\":\"com.mysql.jdbc.Driver\",\n",
    "              \"password\":\"password\"\n",
    "              }\n",
    "connectionString = \"jdbc:mysql://db\""
   ],
   "id": "97f42113113bace4",
   "outputs": [],
   "execution_count": 3
  },
  {
   "metadata": {
    "ExecuteTime": {
     "end_time": "2024-08-22T14:25:19.764173Z",
     "start_time": "2024-08-22T14:25:17.759831Z"
    }
   },
   "cell_type": "code",
   "source": [
    "readRandomTable = spark.read \\\n",
    "    .jdbc(connectionString, \"mysql.engine_cost\", properties=properties)\n",
    "readRandomTable.show()"
   ],
   "id": "234f747956c6dcd1",
   "outputs": [
    {
     "name": "stdout",
     "output_type": "stream",
     "text": [
      "+-----------+-----------+--------------------+----------+-------------------+-------+-------------+\n",
      "|engine_name|device_type|           cost_name|cost_value|        last_update|comment|default_value|\n",
      "+-----------+-----------+--------------------+----------+-------------------+-------+-------------+\n",
      "|    default|          0|  io_block_read_cost|      NULL|2024-08-22 08:42:45|   NULL|          1.0|\n",
      "|    default|          0|memory_block_read...|      NULL|2024-08-22 08:42:45|   NULL|         0.25|\n",
      "+-----------+-----------+--------------------+----------+-------------------+-------+-------------+\n",
      "\n"
     ]
    }
   ],
   "execution_count": 5
  },
  {
   "metadata": {
    "ExecuteTime": {
     "end_time": "2024-08-22T14:26:50.350030Z",
     "start_time": "2024-08-22T14:26:49.812883Z"
    }
   },
   "cell_type": "code",
   "source": [
    "df_csv = spark.read.csv(\"/home/jovyan/csv_files/star_classification.csv\", header=True, inferSchema=True)\n",
    "df_csv.show()"
   ],
   "id": "e176787cb0fe6601",
   "outputs": [
    {
     "name": "stdout",
     "output_type": "stream",
     "text": [
      "+--------------------+----------------+------------------+--------+--------+--------+--------+--------+------+--------+-------+--------+--------------------+------+------------+-----+-----+--------+\n",
      "|              obj_ID|           alpha|             delta|       u|       g|       r|       i|       z|run_ID|rerun_ID|cam_col|field_ID|         spec_obj_ID| class|    redshift|plate|  MJD|fiber_ID|\n",
      "+--------------------+----------------+------------------+--------+--------+--------+--------+--------+------+--------+-------+--------+--------------------+------+------------+-----+-----+--------+\n",
      "|1.237660961327743...|  135.6891066036|  32.4946318397087|23.87882| 22.2753|20.39501|19.16573|18.79371|  3606|     301|      2|      79|6.543777369295181...|GALAXY|   0.6347936| 5812|56354|     171|\n",
      "|1.237664879951151...|144.826100550256|  31.2741848944939|24.77759|22.83188|22.58444|21.16812|21.61427|  4518|     301|      5|     119|1.176014203670733...|GALAXY|    0.779136|10445|58158|     427|\n",
      "|1.237660961330430...|142.188789562506|  35.5824441819976|25.26307|22.66389|20.60976|19.34857|18.94827|  3606|     301|      2|     120|5.152200256025548...|GALAXY|   0.6441945| 4576|55592|     299|\n",
      "|1.237663478724297...|338.741037753146|-0.402827574587482|22.13682|23.77656|21.61162|20.50454| 19.2501|  4192|     301|      3|     214|1.030107141295442...|GALAXY|   0.9323456| 9149|58039|     775|\n",
      "|1.237680272041378...|345.282593210935|  21.1838656010284|19.43718|17.58028|16.49747|15.97711|15.54461|  8102|     301|      3|     137|6.891864880783317E18|GALAXY|   0.1161227| 6121|56187|     842|\n",
      "|1.237680272039609...|340.995120509191|  20.5894762801019|23.48827|23.33776|21.32195|20.25615|19.54544|  8102|     301|      3|     110|5.658976714552006...|   QSO|    1.424659| 5026|55855|     741|\n",
      "|1.237678858481565...|23.2349264301638|  11.4181876197835|21.46973|21.17624|20.92829|20.60826|20.42573|  7773|     301|      2|     462|  1.2462617271914E19|   QSO|   0.5864546|11069|58456|     113|\n",
      "|1.237678858473963...|5.43317603738404|  12.0651859913473|22.24979|22.02172|20.34126|19.48794|18.84999|  7773|     301|      2|     346|6.961443351364393E18|GALAXY|    0.477009| 6183|56210|      15|\n",
      "|1.237661435386659...|200.290475389797|   47.199402322911|24.40286|22.35669|20.61032| 19.4649|18.95852|  3716|     301|      5|     108|7.459284627188111...|GALAXY|    0.660012| 6625|56386|     719|\n",
      "|1.237670961088168...|39.1496905996484|  28.1028416109607|21.74669|20.03493|19.17553|18.81823|18.65422|  5934|     301|      4|     122|2.751763212482406...|  STAR|-7.895373E-6| 2444|54082|     232|\n",
      "|1.237680272034169...|328.092076173419|  18.2203104791579|25.77163|22.52042|20.63884|19.78071|19.05765|  8102|     301|      3|      27|5.652161941432719...|GALAXY|   0.4595958| 5020|55852|     525|\n",
      "|1.237662341088150...|243.986637469699|  25.7382804319961|23.76761|23.79969|20.98318|19.80745|19.45579|  3927|     301|      4|     112|5.322363975769544...|GALAXY|   0.5914091| 4727|55693|     855|\n",
      "|1.237680507721220...|345.801874402853|  32.6728678500872|23.17274|20.14496|19.41948|19.22034|18.89359|  8157|     301|      2|      38|7.323010883747338...|  STAR| 7.182029E-5| 6504|56540|     574|\n",
      "|1.237678858459349...|331.502029984917|  10.0358020468494| 20.8294|18.75091|17.51118|17.01631|16.62772|  7773|     301|      2|     123|5.702738100025055...|GALAXY|   0.1521936| 5065|55739|     200|\n",
      "|1.237663478726984...|344.984770271278|-0.352615781151814|23.20911|22.79291|22.08589|21.86282| 21.8512|  4192|     301|      3|     255|1.037538657325261...|GALAXY|   0.8181597| 9215|57682|     796|\n",
      "|1.237662341088543...|244.824523050208|  25.1545639915034| 24.8868|22.13311|20.44728|19.49171| 18.9747|  3927|     301|      4|     118|5.322135277350967...|GALAXY|   0.4849288| 4727|55693|      23|\n",
      "|1.237678598087508...|353.201522444633|  3.08079593630972| 24.5489|21.44267|20.95315| 20.7936|20.48442|  7712|     301|      5|     284|4.822278327657322...|  STAR| -4.28576E-4| 4283|55864|     178|\n",
      "|1.237678598091112...|  1.494388639357|  3.29174632998873|20.38562|20.40514|20.29996|20.05918|19.89044|  7712|     301|      5|     339| 9.84382410307275E18|   QSO|    2.031528| 8743|57663|     295|\n",
      "|1.237678598096748...|14.3831352206597|  3.21432619593864|21.82154| 20.5573|19.94918|19.76057|19.55514|  7712|     301|      5|     425|9.855072926793226E18|  STAR|-4.402762E-4| 8753|57373|     258|\n",
      "|1.237651539783057...|167.131668785257|  67.3399356293198|20.48292|18.67807| 17.6168|17.11936|16.73351|  1412|     301|      5|     124|5.518594868731187...|GALAXY|   0.1115879|  490|51929|     613|\n",
      "+--------------------+----------------+------------------+--------+--------+--------+--------+--------+------+--------+-------+--------+--------------------+------+------------+-----+-----+--------+\n",
      "only showing top 20 rows\n",
      "\n"
     ]
    }
   ],
   "execution_count": 8
  },
  {
   "metadata": {
    "ExecuteTime": {
     "end_time": "2024-08-22T14:42:04.953529Z",
     "start_time": "2024-08-22T14:42:04.906717Z"
    }
   },
   "cell_type": "code",
   "source": [
    "#tableToWriteIn = spark.read.jdbc(connectionString, \"Exo4.star_classification\", properties=properties)\n",
    "df_csv.write.saveAsTable(\"star_classification\", format=\"csv\")\n"
   ],
   "id": "7d0a340333933545",
   "outputs": [
    {
     "ename": "AnalysisException",
     "evalue": "[TABLE_OR_VIEW_ALREADY_EXISTS] Cannot create table or view `spark_catalog`.`default`.`star_classification` because it already exists.\nChoose a different name, drop or replace the existing object, or add the IF NOT EXISTS clause to tolerate pre-existing objects.",
     "output_type": "error",
     "traceback": [
      "\u001B[0;31m---------------------------------------------------------------------------\u001B[0m",
      "\u001B[0;31mAnalysisException\u001B[0m                         Traceback (most recent call last)",
      "Cell \u001B[0;32mIn[16], line 2\u001B[0m\n\u001B[1;32m      1\u001B[0m \u001B[38;5;66;03m#tableToWriteIn = spark.read.jdbc(connectionString, \"Exo4.star_classification\", properties=properties)\u001B[39;00m\n\u001B[0;32m----> 2\u001B[0m \u001B[43mdf_csv\u001B[49m\u001B[38;5;241;43m.\u001B[39;49m\u001B[43mwrite\u001B[49m\u001B[38;5;241;43m.\u001B[39;49m\u001B[43msaveAsTable\u001B[49m\u001B[43m(\u001B[49m\u001B[38;5;124;43m\"\u001B[39;49m\u001B[38;5;124;43mstar_classification\u001B[39;49m\u001B[38;5;124;43m\"\u001B[39;49m\u001B[43m,\u001B[49m\u001B[43m \u001B[49m\u001B[38;5;28;43mformat\u001B[39;49m\u001B[38;5;241;43m=\u001B[39;49m\u001B[38;5;124;43m\"\u001B[39;49m\u001B[38;5;124;43mcsv\u001B[39;49m\u001B[38;5;124;43m\"\u001B[39;49m\u001B[43m)\u001B[49m\n",
      "File \u001B[0;32m/usr/local/spark/python/pyspark/sql/readwriter.py:1586\u001B[0m, in \u001B[0;36mDataFrameWriter.saveAsTable\u001B[0;34m(self, name, format, mode, partitionBy, **options)\u001B[0m\n\u001B[1;32m   1584\u001B[0m \u001B[38;5;28;01mif\u001B[39;00m \u001B[38;5;28mformat\u001B[39m \u001B[38;5;129;01mis\u001B[39;00m \u001B[38;5;129;01mnot\u001B[39;00m \u001B[38;5;28;01mNone\u001B[39;00m:\n\u001B[1;32m   1585\u001B[0m     \u001B[38;5;28mself\u001B[39m\u001B[38;5;241m.\u001B[39mformat(\u001B[38;5;28mformat\u001B[39m)\n\u001B[0;32m-> 1586\u001B[0m \u001B[38;5;28;43mself\u001B[39;49m\u001B[38;5;241;43m.\u001B[39;49m\u001B[43m_jwrite\u001B[49m\u001B[38;5;241;43m.\u001B[39;49m\u001B[43msaveAsTable\u001B[49m\u001B[43m(\u001B[49m\u001B[43mname\u001B[49m\u001B[43m)\u001B[49m\n",
      "File \u001B[0;32m/usr/local/spark/python/lib/py4j-0.10.9.7-src.zip/py4j/java_gateway.py:1322\u001B[0m, in \u001B[0;36mJavaMember.__call__\u001B[0;34m(self, *args)\u001B[0m\n\u001B[1;32m   1316\u001B[0m command \u001B[38;5;241m=\u001B[39m proto\u001B[38;5;241m.\u001B[39mCALL_COMMAND_NAME \u001B[38;5;241m+\u001B[39m\\\n\u001B[1;32m   1317\u001B[0m     \u001B[38;5;28mself\u001B[39m\u001B[38;5;241m.\u001B[39mcommand_header \u001B[38;5;241m+\u001B[39m\\\n\u001B[1;32m   1318\u001B[0m     args_command \u001B[38;5;241m+\u001B[39m\\\n\u001B[1;32m   1319\u001B[0m     proto\u001B[38;5;241m.\u001B[39mEND_COMMAND_PART\n\u001B[1;32m   1321\u001B[0m answer \u001B[38;5;241m=\u001B[39m \u001B[38;5;28mself\u001B[39m\u001B[38;5;241m.\u001B[39mgateway_client\u001B[38;5;241m.\u001B[39msend_command(command)\n\u001B[0;32m-> 1322\u001B[0m return_value \u001B[38;5;241m=\u001B[39m \u001B[43mget_return_value\u001B[49m\u001B[43m(\u001B[49m\n\u001B[1;32m   1323\u001B[0m \u001B[43m    \u001B[49m\u001B[43manswer\u001B[49m\u001B[43m,\u001B[49m\u001B[43m \u001B[49m\u001B[38;5;28;43mself\u001B[39;49m\u001B[38;5;241;43m.\u001B[39;49m\u001B[43mgateway_client\u001B[49m\u001B[43m,\u001B[49m\u001B[43m \u001B[49m\u001B[38;5;28;43mself\u001B[39;49m\u001B[38;5;241;43m.\u001B[39;49m\u001B[43mtarget_id\u001B[49m\u001B[43m,\u001B[49m\u001B[43m \u001B[49m\u001B[38;5;28;43mself\u001B[39;49m\u001B[38;5;241;43m.\u001B[39;49m\u001B[43mname\u001B[49m\u001B[43m)\u001B[49m\n\u001B[1;32m   1325\u001B[0m \u001B[38;5;28;01mfor\u001B[39;00m temp_arg \u001B[38;5;129;01min\u001B[39;00m temp_args:\n\u001B[1;32m   1326\u001B[0m     \u001B[38;5;28;01mif\u001B[39;00m \u001B[38;5;28mhasattr\u001B[39m(temp_arg, \u001B[38;5;124m\"\u001B[39m\u001B[38;5;124m_detach\u001B[39m\u001B[38;5;124m\"\u001B[39m):\n",
      "File \u001B[0;32m/usr/local/spark/python/pyspark/errors/exceptions/captured.py:185\u001B[0m, in \u001B[0;36mcapture_sql_exception.<locals>.deco\u001B[0;34m(*a, **kw)\u001B[0m\n\u001B[1;32m    181\u001B[0m converted \u001B[38;5;241m=\u001B[39m convert_exception(e\u001B[38;5;241m.\u001B[39mjava_exception)\n\u001B[1;32m    182\u001B[0m \u001B[38;5;28;01mif\u001B[39;00m \u001B[38;5;129;01mnot\u001B[39;00m \u001B[38;5;28misinstance\u001B[39m(converted, UnknownException):\n\u001B[1;32m    183\u001B[0m     \u001B[38;5;66;03m# Hide where the exception came from that shows a non-Pythonic\u001B[39;00m\n\u001B[1;32m    184\u001B[0m     \u001B[38;5;66;03m# JVM exception message.\u001B[39;00m\n\u001B[0;32m--> 185\u001B[0m     \u001B[38;5;28;01mraise\u001B[39;00m converted \u001B[38;5;28;01mfrom\u001B[39;00m \u001B[38;5;28;01mNone\u001B[39;00m\n\u001B[1;32m    186\u001B[0m \u001B[38;5;28;01melse\u001B[39;00m:\n\u001B[1;32m    187\u001B[0m     \u001B[38;5;28;01mraise\u001B[39;00m\n",
      "\u001B[0;31mAnalysisException\u001B[0m: [TABLE_OR_VIEW_ALREADY_EXISTS] Cannot create table or view `spark_catalog`.`default`.`star_classification` because it already exists.\nChoose a different name, drop or replace the existing object, or add the IF NOT EXISTS clause to tolerate pre-existing objects."
     ]
    }
   ],
   "execution_count": 16
  }
 ],
 "metadata": {
  "kernelspec": {
   "display_name": "Python 3",
   "language": "python",
   "name": "python3"
  },
  "language_info": {
   "codemirror_mode": {
    "name": "ipython",
    "version": 2
   },
   "file_extension": ".py",
   "mimetype": "text/x-python",
   "name": "python",
   "nbconvert_exporter": "python",
   "pygments_lexer": "ipython2",
   "version": "2.7.6"
  }
 },
 "nbformat": 4,
 "nbformat_minor": 5
}
