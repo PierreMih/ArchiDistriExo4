{
 "cells": [
  {
   "cell_type": "code",
   "id": "initial_id",
   "metadata": {
    "collapsed": true,
    "ExecuteTime": {
     "end_time": "2024-08-22T13:44:13.114885Z",
     "start_time": "2024-08-22T13:44:13.102135Z"
    }
   },
   "source": [
    "from pyspark.sql import SparkSession\n",
    "\n",
    "# jupyter server url : http://localhost:8888/?token=e8969cc301798aa1a1277901708e8b900d075d249df84c1a\n",
    "\n",
    "spark = SparkSession.builder \\\n",
    "    .master(\"local[*]\") \\\n",
    "    .appName(\"Exo4\") \\\n",
    "    .config(\"spark.ui.port\",\"4040\")\\\n",
    "    .config(\"spark.executor.memory\",\"10g\")\\\n",
    "    .config(\"spark.driver.memory\",\"4g\")\\\n",
    "    .config(\"spark.jars\", \"/opt/spark/jars/mysql-connector-j-9.0.0.jar\")\\\n",
    "    .getOrCreate()\n",
    "    #.config(\"driver\", \"com.mysql.jdbc.Driver\") \\\n",
    "    #.config(\"driver\", \"mysql-connector-j-9.0.0.jar\")\\"
   ],
   "outputs": [],
   "execution_count": 5
  },
  {
   "metadata": {
    "ExecuteTime": {
     "end_time": "2024-08-22T13:44:13.126948Z",
     "start_time": "2024-08-22T13:44:13.123369Z"
    }
   },
   "cell_type": "code",
   "source": [
    "properties = {\"user\":\"root\",\n",
    "              \"driver\":\"com.mysql.jdbc.Driver\",\n",
    "              \"password\":\"password\"\n",
    "              }\n",
    "connectionString = \"jdbc:mysql://db\""
   ],
   "id": "97f42113113bace4",
   "outputs": [],
   "execution_count": 6
  },
  {
   "metadata": {
    "ExecuteTime": {
     "end_time": "2024-08-22T13:45:08.506435Z",
     "start_time": "2024-08-22T13:45:08.474137Z"
    }
   },
   "cell_type": "code",
   "source": [
    "jdbc = spark.read \\\n",
    "    .jdbc(connectionString, \"mysql.engine_cost\", properties=properties)"
   ],
   "id": "ce1e50ce5a057239",
   "outputs": [],
   "execution_count": 11
  },
  {
   "metadata": {
    "ExecuteTime": {
     "end_time": "2024-08-22T13:45:09.509206Z",
     "start_time": "2024-08-22T13:45:09.404433Z"
    }
   },
   "cell_type": "code",
   "source": "jdbc.show()",
   "id": "234f747956c6dcd1",
   "outputs": [
    {
     "name": "stdout",
     "output_type": "stream",
     "text": [
      "+-----------+-----------+--------------------+----------+-------------------+-------+-------------+\n",
      "|engine_name|device_type|           cost_name|cost_value|        last_update|comment|default_value|\n",
      "+-----------+-----------+--------------------+----------+-------------------+-------+-------------+\n",
      "|    default|          0|  io_block_read_cost|      NULL|2024-08-22 08:42:45|   NULL|          1.0|\n",
      "|    default|          0|memory_block_read...|      NULL|2024-08-22 08:42:45|   NULL|         0.25|\n",
      "+-----------+-----------+--------------------+----------+-------------------+-------+-------------+\n",
      "\n"
     ]
    }
   ],
   "execution_count": 12
  }
 ],
 "metadata": {
  "kernelspec": {
   "display_name": "Python 3",
   "language": "python",
   "name": "python3"
  },
  "language_info": {
   "codemirror_mode": {
    "name": "ipython",
    "version": 2
   },
   "file_extension": ".py",
   "mimetype": "text/x-python",
   "name": "python",
   "nbconvert_exporter": "python",
   "pygments_lexer": "ipython2",
   "version": "2.7.6"
  }
 },
 "nbformat": 4,
 "nbformat_minor": 5
}
